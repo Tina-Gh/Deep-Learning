{
 "cells": [
  {
   "cell_type": "code",
   "execution_count": 3,
   "metadata": {},
   "outputs": [],
   "source": [
    "import pandas as pd\n",
    "import numpy as np\n",
    "import matplotlib.pyplot as plt\n",
    "%matplotlib inline"
   ]
  },
  {
   "cell_type": "code",
   "execution_count": 4,
   "metadata": {},
   "outputs": [],
   "source": [
    "#loading cifar10 dataset:\n",
    "from tensorflow.keras.datasets import cifar10"
   ]
  },
  {
   "cell_type": "code",
   "execution_count": 5,
   "metadata": {},
   "outputs": [],
   "source": [
    "#1: splitting train and test dataset:\n",
    "(x_train, y_train), (x_test, y_test) = cifar10.load_data()"
   ]
  },
  {
   "cell_type": "code",
   "execution_count": 6,
   "metadata": {},
   "outputs": [
    {
     "data": {
      "text/plain": [
       "(10000, 32, 32, 3)"
      ]
     },
     "execution_count": 6,
     "metadata": {},
     "output_type": "execute_result"
    }
   ],
   "source": [
    "# x_train.shape\n",
    "x_test.shape"
   ]
  },
  {
   "cell_type": "code",
   "execution_count": 7,
   "metadata": {},
   "outputs": [
    {
     "data": {
      "text/plain": [
       "(32, 32, 3)"
      ]
     },
     "execution_count": 7,
     "metadata": {},
     "output_type": "execute_result"
    }
   ],
   "source": [
    "single_image = x_train[0]\n",
    "# single_image\n",
    "single_image.shape"
   ]
  },
  {
   "cell_type": "code",
   "execution_count": 8,
   "metadata": {},
   "outputs": [
    {
     "data": {
      "text/plain": [
       "<matplotlib.image.AxesImage at 0x27d52c56a08>"
      ]
     },
     "execution_count": 8,
     "metadata": {},
     "output_type": "execute_result"
    },
    {
     "data": {
      "image/png": "[encoded data removed]",
      "text/plain": [
       "<Figure size 432x288 with 1 Axes>"
      ]
     },
     "metadata": {
      "needs_background": "light"
     },
     "output_type": "display_data"
    }
   ],
   "source": [
    "plt.imshow(single_image)"
   ]
  },
  {
   "cell_type": "code",
   "execution_count": 9,
   "metadata": {},
   "outputs": [
    {
     "data": {
      "text/plain": [
       "255"
      ]
     },
     "execution_count": 9,
     "metadata": {},
     "output_type": "execute_result"
    }
   ],
   "source": [
    "#2: preprocessing:\n",
    "# single_image.max()\n",
    "x_test.max()"
   ]
  },
  {
   "cell_type": "code",
   "execution_count": 10,
   "metadata": {},
   "outputs": [],
   "source": [
    "x_train = x_train/255\n",
    "x_test = x_test/255"
   ]
  },
  {
   "cell_type": "code",
   "execution_count": 11,
   "metadata": {},
   "outputs": [
    {
     "data": {
      "text/plain": [
       "array([[3],\n",
       "       [8],\n",
       "       [8],\n",
       "       ...,\n",
       "       [5],\n",
       "       [1],\n",
       "       [7]], dtype=uint8)"
      ]
     },
     "execution_count": 11,
     "metadata": {},
     "output_type": "execute_result"
    }
   ],
   "source": [
    "# y_test.shape\n",
    "y_test #as we see bellow, these are labeled by intigers, so we should convert it catagorial data."
   ]
  },
  {
   "cell_type": "code",
   "execution_count": 12,
   "metadata": {},
   "outputs": [
    {
     "data": {
      "text/plain": [
       "array([[6],\n",
       "       [9],\n",
       "       [9],\n",
       "       ...,\n",
       "       [9],\n",
       "       [1],\n",
       "       [1]], dtype=uint8)"
      ]
     },
     "execution_count": 12,
     "metadata": {},
     "output_type": "execute_result"
    }
   ],
   "source": [
    "y_train"
   ]
  },
  {
   "cell_type": "code",
   "execution_count": 13,
   "metadata": {},
   "outputs": [],
   "source": [
    "from tensorflow.keras.utils import to_categorical\n",
    "\n",
    "y_train_catagory = to_categorical(y_train, 10)\n",
    "y_test_catagory = to_categorical(y_test, 10)"
   ]
  },
  {
   "cell_type": "code",
   "execution_count": 14,
   "metadata": {},
   "outputs": [
    {
     "data": {
      "text/plain": [
       "array([[0., 0., 0., ..., 0., 0., 0.],\n",
       "       [0., 0., 0., ..., 0., 0., 1.],\n",
       "       [0., 0., 0., ..., 0., 0., 1.],\n",
       "       ...,\n",
       "       [0., 0., 0., ..., 0., 0., 1.],\n",
       "       [0., 1., 0., ..., 0., 0., 0.],\n",
       "       [0., 1., 0., ..., 0., 0., 0.]], dtype=float32)"
      ]
     },
     "execution_count": 14,
     "metadata": {},
     "output_type": "execute_result"
    }
   ],
   "source": [
    "# y_train_catagory.shape\n",
    "y_train_catagory #as we see bellow, this is one-hot-encoding."
   ]
  },
  {
   "cell_type": "code",
   "execution_count": 15,
   "metadata": {},
   "outputs": [
    {
     "data": {
      "text/plain": [
       "array([[0., 0., 0., ..., 0., 0., 0.],\n",
       "       [0., 0., 0., ..., 0., 1., 0.],\n",
       "       [0., 0., 0., ..., 0., 1., 0.],\n",
       "       ...,\n",
       "       [0., 0., 0., ..., 0., 0., 0.],\n",
       "       [0., 1., 0., ..., 0., 0., 0.],\n",
       "       [0., 0., 0., ..., 1., 0., 0.]], dtype=float32)"
      ]
     },
     "execution_count": 15,
     "metadata": {},
     "output_type": "execute_result"
    }
   ],
   "source": [
    "y_test_catagory #as we see bellow, this is one-hot-encoding."
   ]
  },
  {
   "cell_type": "code",
   "execution_count": 16,
   "metadata": {},
   "outputs": [
    {
     "data": {
      "text/plain": [
       "array([6], dtype=uint8)"
      ]
     },
     "execution_count": 16,
     "metadata": {},
     "output_type": "execute_result"
    }
   ],
   "source": [
    "#just a quick comprehension of our data:\n",
    "y_train[0]"
   ]
  },
  {
   "cell_type": "code",
   "execution_count": 17,
   "metadata": {},
   "outputs": [
    {
     "data": {
      "text/plain": [
       "<matplotlib.image.AxesImage at 0x27d52d0d5c8>"
      ]
     },
     "execution_count": 17,
     "metadata": {},
     "output_type": "execute_result"
    },
    {
     "data": {
      "image/png": "[encoded data removed]",
      "text/plain": [
       "<Figure size 432x288 with 1 Axes>"
      ]
     },
     "metadata": {
      "needs_background": "light"
     },
     "output_type": "display_data"
    }
   ],
   "source": [
    "plt.imshow(x_train[0]) #so as we see bellow and above, output '6' is liked to the picture of a 'frog', which if we google it,we see that in cifar10, the image of a 'frog' is ultimately labeled as '6'.\n",
    "#here is the link: https://www.cs.toronto.edu/~kriz/cifar.html"
   ]
  },
  {
   "cell_type": "code",
   "execution_count": 18,
   "metadata": {},
   "outputs": [],
   "source": [
    "#3: creating our model:\n",
    "\n",
    "from tensorflow.keras.models import Sequential\n",
    "from tensorflow.keras.layers import Dense, Activation, Conv2D, MaxPool2D, Flatten"
   ]
  },
  {
   "cell_type": "code",
   "execution_count": 19,
   "metadata": {},
   "outputs": [],
   "source": [
    "model = Sequential()\n",
    "\n",
    "#Convolutional Layer:\n",
    "model.add(Conv2D(filters = 32, kernel_size = (4,4), strides = (1,1), input_shape = (32, 32, 3), activation = 'relu')) \n",
    "#input_shape = (32, 32, 3) : by x_test.shape\n",
    "#for an mnist imge(which is a gray-scaled image): 28*28 = 784, for a cifar10 image(which is a color image): 32*32*3 = 3072, !huge difference!\n",
    "#so since the images in cifar10 hold more information compared to mnist images, we will add another convolutional layer:\n",
    "#Pooling layer:\n",
    "model.add(MaxPool2D(pool_size = (2, 2))) \n",
    "\n",
    "\n",
    "#Convolutional Layer:\n",
    "model.add(Conv2D(filters = 32, kernel_size = (4,4), strides = (1,1), input_shape = (32, 32, 3), activation = 'relu')) \n",
    "#many like to change 'filters' to another number in the latter convolutional Layere in CNN. But here, I keep it the same.\n",
    "#Pooling layer:\n",
    "model.add(MaxPool2D(pool_size = (2, 2))) \n",
    "\n",
    "\n",
    "#Flatting the image:\n",
    "model.add(Flatten())\n",
    "\n",
    "\n",
    "#Now the ANN after the CNN:\n",
    "model.add(Dense(units = 256, activation = 'relu')) \n",
    "#since here we have more complex images than mnist images, it is better to add more nuorons to the Dense layer.\n",
    "model.add(Dense(units = 10, activation = 'softmax')) #output layer\n",
    "#units = 10 : since we have 10 classes according to the link I sent in the above lines.\\\n",
    "#activation = 'softmax' : not 'sigmoid', since this is a multi-class(=10) netwok.\n",
    "\n",
    "\n",
    "#Compiling the model:\n",
    "model.compile(loss = 'categorical_crossentropy', optimizer = 'adam', metrics = ['accuracy'])"
   ]
  },
  {
   "cell_type": "code",
   "execution_count": 20,
   "metadata": {},
   "outputs": [
    {
     "name": "stdout",
     "output_type": "stream",
     "text": [
      "Model: \"sequential\"\n",
      "_________________________________________________________________\n",
      "Layer (type)                 Output Shape              Param #   \n",
      "=================================================================\n",
      "conv2d (Conv2D)              (None, 29, 29, 32)        1568      \n",
      "_________________________________________________________________\n",
      "max_pooling2d (MaxPooling2D) (None, 14, 14, 32)        0         \n",
      "_________________________________________________________________\n",
      "conv2d_1 (Conv2D)            (None, 11, 11, 32)        16416     \n",
      "_________________________________________________________________\n",
      "max_pooling2d_1 (MaxPooling2 (None, 5, 5, 32)          0         \n",
      "_________________________________________________________________\n",
      "flatten (Flatten)            (None, 800)               0         \n",
      "_________________________________________________________________\n",
      "dense (Dense)                (None, 256)               205056    \n",
      "_________________________________________________________________\n",
      "dense_1 (Dense)              (None, 10)                2570      \n",
      "=================================================================\n",
      "Total params: 225,610\n",
      "Trainable params: 225,610\n",
      "Non-trainable params: 0\n",
      "_________________________________________________________________\n"
     ]
    }
   ],
   "source": [
    "model.summary()"
   ]
  },
  {
   "cell_type": "code",
   "execution_count": 21,
   "metadata": {},
   "outputs": [],
   "source": [
    "#4: EarlyStopping to avoid overfitting:\n",
    "    \n",
    "from tensorflow.keras.callbacks import EarlyStopping\n",
    "\n",
    "early_stop = EarlyStopping(monitor = 'val_loss', patience = 2)"
   ]
  },
  {
   "cell_type": "code",
   "execution_count": 22,
   "metadata": {},
   "outputs": [
    {
     "name": "stdout",
     "output_type": "stream",
     "text": [
      "Train on 50000 samples, validate on 10000 samples\n",
      "Epoch 1/15\n",
      "50000/50000 [==============================] - 100s 2ms/sample - loss: 1.4686 - accuracy: 0.4729 - val_loss: 1.2253 - val_accuracy: 0.5572\n",
      "Epoch 2/15\n",
      "50000/50000 [==============================] - 93s 2ms/sample - loss: 1.1400 - accuracy: 0.5969 - val_loss: 1.1211 - val_accuracy: 0.6152\n",
      "Epoch 3/15\n",
      "50000/50000 [==============================] - 82s 2ms/sample - loss: 0.9931 - accuracy: 0.6521 - val_loss: 1.0669 - val_accuracy: 0.6273\n",
      "Epoch 4/15\n",
      "50000/50000 [==============================] - 84s 2ms/sample - loss: 0.8857 - accuracy: 0.6910 - val_loss: 0.9464 - val_accuracy: 0.6706\n",
      "Epoch 5/15\n",
      "50000/50000 [==============================] - 93s 2ms/sample - loss: 0.7876 - accuracy: 0.7244 - val_loss: 0.9336 - val_accuracy: 0.6783\n",
      "Epoch 6/15\n",
      "50000/50000 [==============================] - 100s 2ms/sample - loss: 0.7127 - accuracy: 0.7521 - val_loss: 0.9757 - val_accuracy: 0.6751\n",
      "Epoch 7/15\n",
      "50000/50000 [==============================] - 82s 2ms/sample - loss: 0.6370 - accuracy: 0.7781 - val_loss: 0.9665 - val_accuracy: 0.6828\n"
     ]
    },
    {
     "data": {
      "text/plain": [
       "<tensorflow.python.keras.callbacks.History at 0x27d50392bc8>"
      ]
     },
     "execution_count": 22,
     "metadata": {},
     "output_type": "execute_result"
    }
   ],
   "source": [
    "model.fit(x = x_train, y = y_train_catagory, epochs = 15, validation_data = [x_test, y_test_catagory], callbacks = [early_stop])"
   ]
  },
  {
   "cell_type": "code",
   "execution_count": 24,
   "metadata": {},
   "outputs": [
    {
     "data": {
      "text/html": [
       "<div>\n",
       "<style scoped>\n",
       "    .dataframe tbody tr th:only-of-type {\n",
       "        vertical-align: middle;\n",
       "    }\n",
       "\n",
       "    .dataframe tbody tr th {\n",
       "        vertical-align: top;\n",
       "    }\n",
       "\n",
       "    .dataframe thead th {\n",
       "        text-align: right;\n",
       "    }\n",
       "</style>\n",
       "<table border=\"1\" class=\"dataframe\">\n",
       "  <thead>\n",
       "    <tr style=\"text-align: right;\">\n",
       "      <th></th>\n",
       "      <th>loss</th>\n",
       "      <th>accuracy</th>\n",
       "      <th>val_loss</th>\n",
       "      <th>val_accuracy</th>\n",
       "    </tr>\n",
       "  </thead>\n",
       "  <tbody>\n",
       "    <tr>\n",
       "      <th>0</th>\n",
       "      <td>1.468562</td>\n",
       "      <td>0.47292</td>\n",
       "      <td>1.225299</td>\n",
       "      <td>0.5572</td>\n",
       "    </tr>\n",
       "    <tr>\n",
       "      <th>1</th>\n",
       "      <td>1.139993</td>\n",
       "      <td>0.59688</td>\n",
       "      <td>1.121109</td>\n",
       "      <td>0.6152</td>\n",
       "    </tr>\n",
       "    <tr>\n",
       "      <th>2</th>\n",
       "      <td>0.993076</td>\n",
       "      <td>0.65206</td>\n",
       "      <td>1.066909</td>\n",
       "      <td>0.6273</td>\n",
       "    </tr>\n",
       "    <tr>\n",
       "      <th>3</th>\n",
       "      <td>0.885674</td>\n",
       "      <td>0.69100</td>\n",
       "      <td>0.946356</td>\n",
       "      <td>0.6706</td>\n",
       "    </tr>\n",
       "    <tr>\n",
       "      <th>4</th>\n",
       "      <td>0.787643</td>\n",
       "      <td>0.72436</td>\n",
       "      <td>0.933581</td>\n",
       "      <td>0.6783</td>\n",
       "    </tr>\n",
       "    <tr>\n",
       "      <th>5</th>\n",
       "      <td>0.712658</td>\n",
       "      <td>0.75208</td>\n",
       "      <td>0.975699</td>\n",
       "      <td>0.6751</td>\n",
       "    </tr>\n",
       "    <tr>\n",
       "      <th>6</th>\n",
       "      <td>0.636959</td>\n",
       "      <td>0.77812</td>\n",
       "      <td>0.966517</td>\n",
       "      <td>0.6828</td>\n",
       "    </tr>\n",
       "  </tbody>\n",
       "</table>\n",
       "</div>"
      ],
      "text/plain": [
       "       loss  accuracy  val_loss  val_accuracy\n",
       "0  1.468562   0.47292  1.225299        0.5572\n",
       "1  1.139993   0.59688  1.121109        0.6152\n",
       "2  0.993076   0.65206  1.066909        0.6273\n",
       "3  0.885674   0.69100  0.946356        0.6706\n",
       "4  0.787643   0.72436  0.933581        0.6783\n",
       "5  0.712658   0.75208  0.975699        0.6751\n",
       "6  0.636959   0.77812  0.966517        0.6828"
      ]
     },
     "execution_count": 24,
     "metadata": {},
     "output_type": "execute_result"
    }
   ],
   "source": [
    "metrics = pd.DataFrame(model.history.history)#I used 'metrics' name instead of 'losses' name, since the output of \"model.history.history\" is not just 'loss' & 'val_loss', but also it contains other related metrics (because above, I have said in the code \"metrics = ['accuracy']\", so the code basically adds accuracy related metrics, too.)\n",
    "metrics"
   ]
  },
  {
   "cell_type": "code",
   "execution_count": 25,
   "metadata": {},
   "outputs": [
    {
     "data": {
      "text/plain": [
       "<matplotlib.axes._subplots.AxesSubplot at 0x27df6067088>"
      ]
     },
     "execution_count": 25,
     "metadata": {},
     "output_type": "execute_result"
    },
    {
     "data": {
      "image/png": "[encoded data removed]",
      "text/plain": [
       "<Figure size 432x288 with 1 Axes>"
      ]
     },
     "metadata": {
      "needs_background": "light"
     },
     "output_type": "display_data"
    }
   ],
   "source": [
    "metrics[['loss', 'val_loss']].plot()"
   ]
  },
  {
   "cell_type": "code",
   "execution_count": 26,
   "metadata": {},
   "outputs": [
    {
     "data": {
      "text/plain": [
       "<matplotlib.axes._subplots.AxesSubplot at 0x27df605cc08>"
      ]
     },
     "execution_count": 26,
     "metadata": {},
     "output_type": "execute_result"
    },
    {
     "data": {
      "image/png": "[encoded data removed]",
      "text/plain": [
       "<Figure size 432x288 with 1 Axes>"
      ]
     },
     "metadata": {
      "needs_background": "light"
     },
     "output_type": "display_data"
    }
   ],
   "source": [
    "metrics[['accuracy', 'val_accuracy']].plot()"
   ]
  },
  {
   "cell_type": "code",
   "execution_count": 27,
   "metadata": {},
   "outputs": [
    {
     "data": {
      "text/plain": [
       "[0.9665166018486023, 0.6828]"
      ]
     },
     "execution_count": 27,
     "metadata": {},
     "output_type": "execute_result"
    }
   ],
   "source": [
    "# 5: evaluating our model:\n",
    "\n",
    "model.evaluate(x = x_test, y = y_test_catagory, verbose = 0) #the output's element [0]=0.038617865503154464='loss' & [1]=0.9888]='accuracy'."
   ]
  },
  {
   "cell_type": "code",
   "execution_count": 36,
   "metadata": {},
   "outputs": [
    {
     "name": "stdout",
     "output_type": "stream",
     "text": [
      "              precision    recall  f1-score   support\n",
      "\n",
      "           0       0.76      0.68      0.72      1000\n",
      "           1       0.82      0.77      0.79      1000\n",
      "           2       0.57      0.60      0.58      1000\n",
      "           3       0.50      0.48      0.49      1000\n",
      "           4       0.64      0.62      0.63      1000\n",
      "           5       0.58      0.58      0.58      1000\n",
      "           6       0.75      0.79      0.77      1000\n",
      "           7       0.80      0.67      0.73      1000\n",
      "           8       0.76      0.80      0.78      1000\n",
      "           9       0.67      0.84      0.75      1000\n",
      "\n",
      "    accuracy                           0.68     10000\n",
      "   macro avg       0.69      0.68      0.68     10000\n",
      "weighted avg       0.69      0.68      0.68     10000\n",
      "\n"
     ]
    }
   ],
   "source": [
    "#to further evaluate our model, we ise confusion matrix, ...\n",
    "\n",
    "from sklearn.metrics import classification_report, confusion_matrix\n",
    "\n",
    "predictions = model.predict_classes(x_test)\n",
    "print(classification_report(y_test, predictions))\n",
    "\n",
    "# if the classification report for rows 3(=cat) and 5(=dog) became quite simillar and equal, then that is because a dog and a cat look quite similar for such blury images that we have in cifar10. "
   ]
  },
  {
   "cell_type": "code",
   "execution_count": 37,
   "metadata": {},
   "outputs": [
    {
     "data": {
      "text/plain": [
       "array([[678,  22,  63,  22,  22,  12,  14,  14,  87,  66],\n",
       "       [ 22, 772,   5,   7,   6,   5,  11,   0,  33, 139],\n",
       "       [ 48,   9, 596,  72,  71,  73,  65,  22,  18,  26],\n",
       "       [ 10,  13,  83, 482,  79, 186,  72,  22,  25,  28],\n",
       "       [ 17,   5, 113,  66, 618,  38,  53,  59,  20,  11],\n",
       "       [ 13,   4,  55, 186,  54, 581,  33,  32,  16,  26],\n",
       "       [  7,   7,  51,  58,  30,  26, 793,   5,  10,  13],\n",
       "       [ 12,   7,  57,  48,  73,  71,  14, 670,   4,  44],\n",
       "       [ 64,  38,  10,  10,   9,   7,   5,   2, 802,  53],\n",
       "       [ 19,  67,  15,  11,   0,   5,   3,   7,  37, 836]], dtype=int64)"
      ]
     },
     "execution_count": 37,
     "metadata": {},
     "output_type": "execute_result"
    }
   ],
   "source": [
    "confusion_matrix(y_true = y_test, y_pred = predictions)"
   ]
  },
  {
   "cell_type": "code",
   "execution_count": 38,
   "metadata": {},
   "outputs": [
    {
     "data": {
      "text/plain": [
       "<matplotlib.axes._subplots.AxesSubplot at 0x27dba60f7c8>"
      ]
     },
     "execution_count": 38,
     "metadata": {},
     "output_type": "execute_result"
    },
    {
     "data": {
      "image/png": "[encoded data removed]",
      "text/plain": [
       "<Figure size 864x576 with 2 Axes>"
      ]
     },
     "metadata": {
      "needs_background": "light"
     },
     "output_type": "display_data"
    }
   ],
   "source": [
    "#visualising the above confusuion matrix:\n",
    "import seaborn as sns\n",
    "\n",
    "plt.figure(figsize = (12, 8))\n",
    "sns.heatmap(confusion_matrix(y_true = y_test, y_pred = predictions), annot = True) \n",
    "\n",
    "#so as we see bellow, there seems to be some confusion with 3(=cat) and 5(=dog)!"
   ]
  },
  {
   "cell_type": "code",
   "execution_count": 39,
   "metadata": {},
   "outputs": [],
   "source": [
    "#6: predicting a single image:\n",
    "\n",
    "a_single_image = x_test[0] #which is an image from the test dataset."
   ]
  },
  {
   "cell_type": "code",
   "execution_count": 40,
   "metadata": {},
   "outputs": [
    {
     "data": {
      "text/plain": [
       "<matplotlib.image.AxesImage at 0x27db9e61748>"
      ]
     },
     "execution_count": 40,
     "metadata": {},
     "output_type": "execute_result"
    },
    {
     "data": {
      "image/png": "[encoded data removed]",
      "text/plain": [
       "<Figure size 432x288 with 1 Axes>"
      ]
     },
     "metadata": {
      "needs_background": "light"
     },
     "output_type": "display_data"
    }
   ],
   "source": [
    "plt.imshow(a_single_image)\n",
    "\n",
    "#so as we see bellow, we don't know what on earth this image is! therefore, we check the according test data, which in this case is y_test[0]."
   ]
  },
  {
   "cell_type": "code",
   "execution_count": 41,
   "metadata": {},
   "outputs": [
    {
     "data": {
      "text/plain": [
       "array([3], dtype=uint8)"
      ]
     },
     "execution_count": 41,
     "metadata": {},
     "output_type": "execute_result"
    }
   ],
   "source": [
    "y_test[0] \n",
    "\n",
    "#as we see bellow, the label for the  above image is '3', which according to the the link I sent, is a 'cat'!"
   ]
  },
  {
   "cell_type": "code",
   "execution_count": 42,
   "metadata": {},
   "outputs": [
    {
     "data": {
      "text/plain": [
       "array([3], dtype=int64)"
      ]
     },
     "execution_count": 42,
     "metadata": {},
     "output_type": "execute_result"
    }
   ],
   "source": [
    "model.predict_classes(a_single_image.reshape(1, 32, 32, 3)) #now, we should reshape our single image which we is going to be predicted by pur model:"
   ]
  },
  {
   "cell_type": "code",
   "execution_count": null,
   "metadata": {},
   "outputs": [],
   "source": [
    "#bravo! our CNN model has predicted correct! it is '3', or a 'cat'!"
   ]
  }
 ],
 "metadata": {
  "kernelspec": {
   "display_name": "Python 3",
   "language": "python",
   "name": "python3"
  },
  "language_info": {
   "codemirror_mode": {
    "name": "ipython",
    "version": 3
   },
   "file_extension": ".py",
   "mimetype": "text/x-python",
   "name": "python",
   "nbconvert_exporter": "python",
   "pygments_lexer": "ipython3",
   "version": "3.7.7"
  }
 },
 "nbformat": 4,
 "nbformat_minor": 4
}
