{
 "cells": [
  {
   "cell_type": "markdown",
   "metadata": {
    "colab_type": "text",
    "id": "GJYk9gRO_W9P"
   },
   "source": [
    "# Mega Case Study - Making a hybrid Deep Learning Model"
   ]
  },
  {
   "cell_type": "markdown",
   "metadata": {
    "colab_type": "text",
    "id": "D8PA8C_X_fHe"
   },
   "source": [
    "# Part 1 - SOM"
   ]
  },
  {
   "cell_type": "markdown",
   "metadata": {
    "colab_type": "text",
    "id": "48btSZ8cAAVt"
   },
   "source": [
    "## Install MiniSom Package"
   ]
  },
  {
   "cell_type": "code",
   "execution_count": 1,
   "metadata": {
    "colab": {
     "base_uri": "https://localhost:8080/",
     "height": 34
    },
    "colab_type": "code",
    "id": "5ueD5zlVAAVu",
    "outputId": "3530328f-8332-45b2-cadc-dec1cd573540"
   },
   "outputs": [
    {
     "name": "stdout",
     "output_type": "stream",
     "text": [
      "Requirement already satisfied: MiniSom in c:\\users\\nasa\\anaconda3\\envs\\mytfenv\\lib\\site-packages (2.2.6)\n"
     ]
    }
   ],
   "source": [
    "!pip install MiniSom"
   ]
  },
  {
   "cell_type": "markdown",
   "metadata": {
    "colab_type": "text",
    "id": "y2L7M7QLAAVx"
   },
   "source": [
    "## Importing the libraries\n"
   ]
  },
  {
   "cell_type": "code",
   "execution_count": 2,
   "metadata": {
    "colab": {},
    "colab_type": "code",
    "id": "zy0_GMcbAAVx"
   },
   "outputs": [],
   "source": [
    "import numpy as np\n",
    "import pandas as pd\n",
    "import matplotlib.pyplot as plt"
   ]
  },
  {
   "cell_type": "markdown",
   "metadata": {
    "colab_type": "text",
    "id": "M74YAQUJAAVz"
   },
   "source": [
    "## Importing the dataset"
   ]
  },
  {
   "cell_type": "code",
   "execution_count": 6,
   "metadata": {
    "colab": {},
    "colab_type": "code",
    "id": "oP387iJvAAV0"
   },
   "outputs": [],
   "source": [
    "df = pd.read_csv('Credit_Card_Applications.csv')\n",
    "\n",
    "x = df.iloc[:, :-1].values \n",
    "y = df.iloc[:, -1].values"
   ]
  },
  {
   "cell_type": "code",
   "execution_count": 7,
   "metadata": {},
   "outputs": [
    {
     "data": {
      "text/html": [
       "<div>\n",
       "<style scoped>\n",
       "    .dataframe tbody tr th:only-of-type {\n",
       "        vertical-align: middle;\n",
       "    }\n",
       "\n",
       "    .dataframe tbody tr th {\n",
       "        vertical-align: top;\n",
       "    }\n",
       "\n",
       "    .dataframe thead th {\n",
       "        text-align: right;\n",
       "    }\n",
       "</style>\n",
       "<table border=\"1\" class=\"dataframe\">\n",
       "  <thead>\n",
       "    <tr style=\"text-align: right;\">\n",
       "      <th></th>\n",
       "      <th>CustomerID</th>\n",
       "      <th>A1</th>\n",
       "      <th>A2</th>\n",
       "      <th>A3</th>\n",
       "      <th>A4</th>\n",
       "      <th>A5</th>\n",
       "      <th>A6</th>\n",
       "      <th>A7</th>\n",
       "      <th>A8</th>\n",
       "      <th>A9</th>\n",
       "      <th>A10</th>\n",
       "      <th>A11</th>\n",
       "      <th>A12</th>\n",
       "      <th>A13</th>\n",
       "      <th>A14</th>\n",
       "      <th>Class</th>\n",
       "    </tr>\n",
       "  </thead>\n",
       "  <tbody>\n",
       "    <tr>\n",
       "      <th>0</th>\n",
       "      <td>15776156</td>\n",
       "      <td>1</td>\n",
       "      <td>22.08</td>\n",
       "      <td>11.460</td>\n",
       "      <td>2</td>\n",
       "      <td>4</td>\n",
       "      <td>4</td>\n",
       "      <td>1.585</td>\n",
       "      <td>0</td>\n",
       "      <td>0</td>\n",
       "      <td>0</td>\n",
       "      <td>1</td>\n",
       "      <td>2</td>\n",
       "      <td>100</td>\n",
       "      <td>1213</td>\n",
       "      <td>0</td>\n",
       "    </tr>\n",
       "    <tr>\n",
       "      <th>1</th>\n",
       "      <td>15739548</td>\n",
       "      <td>0</td>\n",
       "      <td>22.67</td>\n",
       "      <td>7.000</td>\n",
       "      <td>2</td>\n",
       "      <td>8</td>\n",
       "      <td>4</td>\n",
       "      <td>0.165</td>\n",
       "      <td>0</td>\n",
       "      <td>0</td>\n",
       "      <td>0</td>\n",
       "      <td>0</td>\n",
       "      <td>2</td>\n",
       "      <td>160</td>\n",
       "      <td>1</td>\n",
       "      <td>0</td>\n",
       "    </tr>\n",
       "    <tr>\n",
       "      <th>2</th>\n",
       "      <td>15662854</td>\n",
       "      <td>0</td>\n",
       "      <td>29.58</td>\n",
       "      <td>1.750</td>\n",
       "      <td>1</td>\n",
       "      <td>4</td>\n",
       "      <td>4</td>\n",
       "      <td>1.250</td>\n",
       "      <td>0</td>\n",
       "      <td>0</td>\n",
       "      <td>0</td>\n",
       "      <td>1</td>\n",
       "      <td>2</td>\n",
       "      <td>280</td>\n",
       "      <td>1</td>\n",
       "      <td>0</td>\n",
       "    </tr>\n",
       "    <tr>\n",
       "      <th>3</th>\n",
       "      <td>15687688</td>\n",
       "      <td>0</td>\n",
       "      <td>21.67</td>\n",
       "      <td>11.500</td>\n",
       "      <td>1</td>\n",
       "      <td>5</td>\n",
       "      <td>3</td>\n",
       "      <td>0.000</td>\n",
       "      <td>1</td>\n",
       "      <td>1</td>\n",
       "      <td>11</td>\n",
       "      <td>1</td>\n",
       "      <td>2</td>\n",
       "      <td>0</td>\n",
       "      <td>1</td>\n",
       "      <td>1</td>\n",
       "    </tr>\n",
       "    <tr>\n",
       "      <th>4</th>\n",
       "      <td>15715750</td>\n",
       "      <td>1</td>\n",
       "      <td>20.17</td>\n",
       "      <td>8.170</td>\n",
       "      <td>2</td>\n",
       "      <td>6</td>\n",
       "      <td>4</td>\n",
       "      <td>1.960</td>\n",
       "      <td>1</td>\n",
       "      <td>1</td>\n",
       "      <td>14</td>\n",
       "      <td>0</td>\n",
       "      <td>2</td>\n",
       "      <td>60</td>\n",
       "      <td>159</td>\n",
       "      <td>1</td>\n",
       "    </tr>\n",
       "    <tr>\n",
       "      <th>...</th>\n",
       "      <td>...</td>\n",
       "      <td>...</td>\n",
       "      <td>...</td>\n",
       "      <td>...</td>\n",
       "      <td>...</td>\n",
       "      <td>...</td>\n",
       "      <td>...</td>\n",
       "      <td>...</td>\n",
       "      <td>...</td>\n",
       "      <td>...</td>\n",
       "      <td>...</td>\n",
       "      <td>...</td>\n",
       "      <td>...</td>\n",
       "      <td>...</td>\n",
       "      <td>...</td>\n",
       "      <td>...</td>\n",
       "    </tr>\n",
       "    <tr>\n",
       "      <th>685</th>\n",
       "      <td>15808223</td>\n",
       "      <td>1</td>\n",
       "      <td>31.57</td>\n",
       "      <td>10.500</td>\n",
       "      <td>2</td>\n",
       "      <td>14</td>\n",
       "      <td>4</td>\n",
       "      <td>6.500</td>\n",
       "      <td>1</td>\n",
       "      <td>0</td>\n",
       "      <td>0</td>\n",
       "      <td>0</td>\n",
       "      <td>2</td>\n",
       "      <td>0</td>\n",
       "      <td>1</td>\n",
       "      <td>1</td>\n",
       "    </tr>\n",
       "    <tr>\n",
       "      <th>686</th>\n",
       "      <td>15769980</td>\n",
       "      <td>1</td>\n",
       "      <td>20.67</td>\n",
       "      <td>0.415</td>\n",
       "      <td>2</td>\n",
       "      <td>8</td>\n",
       "      <td>4</td>\n",
       "      <td>0.125</td>\n",
       "      <td>0</td>\n",
       "      <td>0</td>\n",
       "      <td>0</td>\n",
       "      <td>0</td>\n",
       "      <td>2</td>\n",
       "      <td>0</td>\n",
       "      <td>45</td>\n",
       "      <td>0</td>\n",
       "    </tr>\n",
       "    <tr>\n",
       "      <th>687</th>\n",
       "      <td>15675450</td>\n",
       "      <td>0</td>\n",
       "      <td>18.83</td>\n",
       "      <td>9.540</td>\n",
       "      <td>2</td>\n",
       "      <td>6</td>\n",
       "      <td>4</td>\n",
       "      <td>0.085</td>\n",
       "      <td>1</td>\n",
       "      <td>0</td>\n",
       "      <td>0</td>\n",
       "      <td>0</td>\n",
       "      <td>2</td>\n",
       "      <td>100</td>\n",
       "      <td>1</td>\n",
       "      <td>1</td>\n",
       "    </tr>\n",
       "    <tr>\n",
       "      <th>688</th>\n",
       "      <td>15776494</td>\n",
       "      <td>0</td>\n",
       "      <td>27.42</td>\n",
       "      <td>14.500</td>\n",
       "      <td>2</td>\n",
       "      <td>14</td>\n",
       "      <td>8</td>\n",
       "      <td>3.085</td>\n",
       "      <td>1</td>\n",
       "      <td>1</td>\n",
       "      <td>1</td>\n",
       "      <td>0</td>\n",
       "      <td>2</td>\n",
       "      <td>120</td>\n",
       "      <td>12</td>\n",
       "      <td>1</td>\n",
       "    </tr>\n",
       "    <tr>\n",
       "      <th>689</th>\n",
       "      <td>15592412</td>\n",
       "      <td>1</td>\n",
       "      <td>41.00</td>\n",
       "      <td>0.040</td>\n",
       "      <td>2</td>\n",
       "      <td>10</td>\n",
       "      <td>4</td>\n",
       "      <td>0.040</td>\n",
       "      <td>0</td>\n",
       "      <td>1</td>\n",
       "      <td>1</td>\n",
       "      <td>0</td>\n",
       "      <td>1</td>\n",
       "      <td>560</td>\n",
       "      <td>1</td>\n",
       "      <td>1</td>\n",
       "    </tr>\n",
       "  </tbody>\n",
       "</table>\n",
       "<p>690 rows × 16 columns</p>\n",
       "</div>"
      ],
      "text/plain": [
       "     CustomerID  A1     A2      A3  A4  A5  A6     A7  A8  A9  A10  A11  A12  \\\n",
       "0      15776156   1  22.08  11.460   2   4   4  1.585   0   0    0    1    2   \n",
       "1      15739548   0  22.67   7.000   2   8   4  0.165   0   0    0    0    2   \n",
       "2      15662854   0  29.58   1.750   1   4   4  1.250   0   0    0    1    2   \n",
       "3      15687688   0  21.67  11.500   1   5   3  0.000   1   1   11    1    2   \n",
       "4      15715750   1  20.17   8.170   2   6   4  1.960   1   1   14    0    2   \n",
       "..          ...  ..    ...     ...  ..  ..  ..    ...  ..  ..  ...  ...  ...   \n",
       "685    15808223   1  31.57  10.500   2  14   4  6.500   1   0    0    0    2   \n",
       "686    15769980   1  20.67   0.415   2   8   4  0.125   0   0    0    0    2   \n",
       "687    15675450   0  18.83   9.540   2   6   4  0.085   1   0    0    0    2   \n",
       "688    15776494   0  27.42  14.500   2  14   8  3.085   1   1    1    0    2   \n",
       "689    15592412   1  41.00   0.040   2  10   4  0.040   0   1    1    0    1   \n",
       "\n",
       "     A13   A14  Class  \n",
       "0    100  1213      0  \n",
       "1    160     1      0  \n",
       "2    280     1      0  \n",
       "3      0     1      1  \n",
       "4     60   159      1  \n",
       "..   ...   ...    ...  \n",
       "685    0     1      1  \n",
       "686    0    45      0  \n",
       "687  100     1      1  \n",
       "688  120    12      1  \n",
       "689  560     1      1  \n",
       "\n",
       "[690 rows x 16 columns]"
      ]
     },
     "execution_count": 7,
     "metadata": {},
     "output_type": "execute_result"
    }
   ],
   "source": [
    "df"
   ]
  },
  {
   "cell_type": "markdown",
   "metadata": {
    "colab_type": "text",
    "id": "xaNRHZwYAAV2"
   },
   "source": [
    "## Feature Scaling\n"
   ]
  },
  {
   "cell_type": "code",
   "execution_count": 8,
   "metadata": {
    "colab": {},
    "colab_type": "code",
    "id": "57QK6WXTAAV3"
   },
   "outputs": [],
   "source": [
    "from sklearn.preprocessing import MinMaxScaler\n",
    "\n",
    "sc = MinMaxScaler(feature_range = (0,1))\n",
    "x = sc.fit_transform(x)"
   ]
  },
  {
   "cell_type": "code",
   "execution_count": 9,
   "metadata": {},
   "outputs": [
    {
     "data": {
      "text/plain": [
       "array([[8.42681467e-01, 1.00000000e+00, 1.25263158e-01, ...,\n",
       "        5.00000000e-01, 5.00000000e-02, 1.21200000e-02],\n",
       "       [6.96090562e-01, 0.00000000e+00, 1.34135338e-01, ...,\n",
       "        5.00000000e-01, 8.00000000e-02, 0.00000000e+00],\n",
       "       [3.88981656e-01, 0.00000000e+00, 2.38045113e-01, ...,\n",
       "        5.00000000e-01, 1.40000000e-01, 0.00000000e+00],\n",
       "       ...,\n",
       "       [4.39420332e-01, 0.00000000e+00, 7.63909774e-02, ...,\n",
       "        5.00000000e-01, 5.00000000e-02, 0.00000000e+00],\n",
       "       [8.44034934e-01, 0.00000000e+00, 2.05563910e-01, ...,\n",
       "        5.00000000e-01, 6.00000000e-02, 1.10000000e-04],\n",
       "       [1.06907888e-01, 1.00000000e+00, 4.09774436e-01, ...,\n",
       "        0.00000000e+00, 2.80000000e-01, 0.00000000e+00]])"
      ]
     },
     "execution_count": 9,
     "metadata": {},
     "output_type": "execute_result"
    }
   ],
   "source": [
    "x"
   ]
  },
  {
   "cell_type": "markdown",
   "metadata": {
    "colab_type": "text",
    "id": "WyD5sEHYAAV5"
   },
   "source": [
    "## Training the SOM\n"
   ]
  },
  {
   "cell_type": "code",
   "execution_count": 10,
   "metadata": {
    "colab": {},
    "colab_type": "code",
    "id": "-BXn8YphAAV6"
   },
   "outputs": [],
   "source": [
    "from minisom import MiniSom\n",
    "\n",
    "som = MiniSom(x = 10, y = 10, input_len = 15, sigma = 1.0, learning_rate = 0.5)\n",
    "som.random_weights_init(x)\n",
    "som.train_random(data = x, num_iteration = 100)"
   ]
  },
  {
   "cell_type": "markdown",
   "metadata": {
    "colab_type": "text",
    "id": "d9qf8w7sAAV8"
   },
   "source": [
    "## Visualizing the results\n"
   ]
  },
  {
   "cell_type": "code",
   "execution_count": 11,
   "metadata": {
    "colab": {
     "base_uri": "https://localhost:8080/",
     "height": 269
    },
    "colab_type": "code",
    "id": "cshl06SmAAV8",
    "outputId": "e183b980-8d59-473a-d72d-f3086473e90d"
   },
   "outputs": [
    {
     "data": {
      "image/png": "[encoded data removed]",
      "text/plain": [
       "<Figure size 432x288 with 2 Axes>"
      ]
     },
     "metadata": {
      "needs_background": "light"
     },
     "output_type": "display_data"
    }
   ],
   "source": [
    "from pylab import bone, pcolor, colorbar, plot, show\n",
    "\n",
    "bone()\n",
    "pcolor(som.distance_map().T)\n",
    "colorbar()\n",
    "markers = ['o', 's']\n",
    "colors = ['r', 'g']\n",
    "for i, x_vector in enumerate(x):\n",
    "    w = som.winner(x_vector)\n",
    "    plot(w[0] + 0.5,\n",
    "         w[1] + 0.5,\n",
    "         markers[y[i]],\n",
    "         markeredgecolor = colors[y[i]],\n",
    "         markerfacecolor = 'None',\n",
    "         markersize = 10,\n",
    "         markeredgewidth = 2)\n",
    "show()"
   ]
  },
  {
   "cell_type": "markdown",
   "metadata": {
    "colab_type": "text",
    "id": "gijZkcIGAAWA"
   },
   "source": [
    "## Finding the frauds\n"
   ]
  },
  {
   "cell_type": "code",
   "execution_count": 12,
   "metadata": {
    "colab": {},
    "colab_type": "code",
    "id": "EJIH9sDvAAWA"
   },
   "outputs": [],
   "source": [
    "mappings = som.win_map(x)\n",
    "frauds = np.concatenate((mappings[(3,4)], mappings[(5,4)]), axis = 0)\n",
    "frauds = sc.inverse_transform(frauds)"
   ]
  },
  {
   "cell_type": "markdown",
   "metadata": {
    "colab_type": "text",
    "id": "EOVO2DzCAAWD"
   },
   "source": [
    "## Printing the Fraunch Clients"
   ]
  },
  {
   "cell_type": "code",
   "execution_count": 13,
   "metadata": {
    "colab": {
     "base_uri": "https://localhost:8080/",
     "height": 833
    },
    "colab_type": "code",
    "id": "IjotUwR3AAWD",
    "outputId": "6babd385-f60f-42db-b5cf-c7b881da768f"
   },
   "outputs": [
    {
     "name": "stdout",
     "output_type": "stream",
     "text": [
      "Fraud Customer IDs\n",
      "15786237\n",
      "15766183\n",
      "15590434\n",
      "15767358\n",
      "15808662\n",
      "15684722\n",
      "15567839\n",
      "15671014\n",
      "15772329\n",
      "15734649\n",
      "15579583\n",
      "15642336\n",
      "15740487\n",
      "15593345\n",
      "15646082\n",
      "15811742\n",
      "15717629\n",
      "15757188\n",
      "15635598\n",
      "15647191\n",
      "15702571\n",
      "15622083\n",
      "15646190\n",
      "15776545\n",
      "15715907\n",
      "15792107\n",
      "15768342\n",
      "15748532\n",
      "15689692\n",
      "15793896\n",
      "15813192\n",
      "15672357\n",
      "15788634\n",
      "15753591\n",
      "15682540\n",
      "15797246\n",
      "15800773\n",
      "15571081\n",
      "15715519\n",
      "15630592\n",
      "15636562\n",
      "15757306\n",
      "15711759\n",
      "15665181\n"
     ]
    }
   ],
   "source": [
    "print('Fraud Customer IDs')\n",
    "for i in frauds[:, 0]:\n",
    "  print(int(i))"
   ]
  },
  {
   "cell_type": "markdown",
   "metadata": {
    "colab_type": "text",
    "id": "-9oatjNmAC8i"
   },
   "source": [
    "# Part 2 - Going from Unsupervised to Supervised Deep Learning "
   ]
  },
  {
   "cell_type": "markdown",
   "metadata": {
    "colab_type": "text",
    "id": "eDv-ecVtAtwU"
   },
   "source": [
    "## Create Matrix of Features"
   ]
  },
  {
   "cell_type": "code",
   "execution_count": 15,
   "metadata": {
    "colab": {},
    "colab_type": "code",
    "id": "h3ADq7HsA3Sh"
   },
   "outputs": [],
   "source": [
    "costumers = df.iloc[:, 1:].values"
   ]
  },
  {
   "cell_type": "markdown",
   "metadata": {
    "colab_type": "text",
    "id": "ycrQvNAvBAng"
   },
   "source": [
    "## Create Dependent Variable"
   ]
  },
  {
   "cell_type": "code",
   "execution_count": 22,
   "metadata": {
    "colab": {},
    "colab_type": "code",
    "id": "Dt1TQG3NBFDM"
   },
   "outputs": [],
   "source": [
    "is_fraud = np.zeros(len(df))"
   ]
  },
  {
   "cell_type": "code",
   "execution_count": 23,
   "metadata": {},
   "outputs": [],
   "source": [
    "for i in range(0, len(df)):\n",
    "    if df.iloc[i, 0] in frauds:\n",
    "        is_fraud[i] = 1"
   ]
  },
  {
   "cell_type": "code",
   "execution_count": 31,
   "metadata": {},
   "outputs": [
    {
     "data": {
      "text/plain": [
       "array([0., 0., 0., 0., 0., 0., 0., 0., 0., 0., 0., 0., 0., 0., 0., 0., 0.,\n",
       "       0., 0., 0., 0., 1., 0., 0., 0., 0., 0., 0., 0., 0., 0., 0., 0., 0.,\n",
       "       0., 0., 0., 0., 0., 0., 0., 0., 1., 0., 0., 0., 0., 0., 0., 0., 0.,\n",
       "       0., 0., 0., 0., 0., 0., 0., 0., 0., 0., 0., 0., 0., 1., 0., 0., 0.,\n",
       "       0., 0., 0., 0., 0., 0., 0., 0., 0., 0., 0., 0., 0., 0., 0., 0., 0.,\n",
       "       0., 0., 0., 0., 0., 0., 0., 0., 0., 0., 0., 0., 0., 0., 0., 0., 0.,\n",
       "       0., 0., 0., 1., 0., 0., 1., 0., 0., 0., 0., 0., 0., 0., 0., 0., 0.,\n",
       "       0., 0., 0., 0., 0., 0., 0., 0., 0., 1., 0., 0., 0., 0., 0., 0., 0.,\n",
       "       0., 0., 0., 0., 0., 0., 0., 0., 0., 0., 0., 0., 0., 0., 0., 0., 0.,\n",
       "       0., 0., 0., 0., 0., 0., 0., 0., 0., 0., 0., 0., 0., 0., 0., 0., 0.,\n",
       "       1., 0., 0., 1., 0., 0., 0., 0., 0., 0., 0., 0., 0., 0., 0., 0., 0.,\n",
       "       0., 0., 0., 0., 0., 1., 0., 1., 0., 0., 0., 0., 0., 0., 0., 0., 1.,\n",
       "       0., 0., 0., 0., 0., 0., 0., 1., 0., 0., 0., 0., 0., 0., 0., 0., 0.,\n",
       "       0., 0., 0., 0., 0., 0., 0., 0., 0., 0., 0., 0., 0., 0., 0., 0., 0.,\n",
       "       0., 0., 1., 0., 0., 0., 0., 0., 0., 0., 0., 0., 0., 0., 0., 0., 1.,\n",
       "       0., 0., 0., 0., 0., 0., 1., 0., 1., 0., 0., 0., 0., 0., 0., 0., 0.,\n",
       "       0., 0., 0., 0., 1., 0., 0., 0., 0., 0., 0., 0., 0., 0., 0., 0., 0.,\n",
       "       0., 0., 0., 0., 0., 0., 0., 0., 0., 0., 0., 0., 0., 0., 0., 0., 0.,\n",
       "       0., 0., 0., 0., 0., 1., 0., 0., 0., 0., 1., 0., 0., 0., 0., 0., 0.,\n",
       "       0., 0., 0., 0., 0., 0., 0., 0., 0., 0., 0., 0., 0., 0., 0., 1., 0.,\n",
       "       0., 0., 0., 0., 0., 0., 0., 0., 1., 0., 1., 0., 0., 0., 0., 0., 0.,\n",
       "       0., 0., 0., 0., 0., 0., 0., 0., 0., 0., 0., 0., 0., 1., 0., 0., 0.,\n",
       "       0., 0., 0., 0., 0., 0., 0., 0., 0., 0., 0., 0., 0., 0., 0., 0., 0.,\n",
       "       0., 0., 0., 0., 0., 0., 0., 0., 0., 0., 0., 0., 0., 0., 0., 0., 0.,\n",
       "       0., 0., 0., 0., 0., 0., 0., 0., 1., 0., 0., 1., 0., 0., 0., 0., 0.,\n",
       "       0., 0., 0., 0., 0., 0., 0., 0., 0., 0., 0., 0., 0., 0., 0., 0., 0.,\n",
       "       0., 1., 0., 0., 1., 0., 0., 0., 0., 0., 0., 1., 1., 0., 0., 0., 0.,\n",
       "       0., 0., 1., 0., 0., 0., 0., 0., 0., 0., 0., 0., 0., 0., 0., 0., 0.,\n",
       "       0., 0., 1., 0., 0., 0., 0., 0., 0., 0., 0., 0., 0., 0., 0., 0., 0.,\n",
       "       1., 0., 0., 0., 0., 0., 0., 0., 0., 0., 0., 0., 0., 0., 0., 0., 0.,\n",
       "       0., 0., 0., 0., 0., 1., 0., 0., 0., 0., 0., 0., 0., 0., 0., 0., 0.,\n",
       "       0., 0., 0., 0., 0., 0., 0., 0., 0., 0., 0., 0., 0., 0., 0., 0., 0.,\n",
       "       0., 0., 0., 0., 0., 0., 0., 0., 0., 0., 1., 0., 0., 1., 0., 0., 0.,\n",
       "       0., 0., 0., 0., 0., 0., 0., 0., 0., 0., 0., 1., 0., 0., 0., 0., 0.,\n",
       "       0., 0., 0., 0., 0., 0., 0., 0., 0., 1., 0., 0., 0., 0., 0., 0., 0.,\n",
       "       0., 0., 0., 0., 0., 0., 0., 0., 0., 0., 0., 0., 0., 0., 0., 0., 0.,\n",
       "       0., 0., 0., 0., 0., 0., 0., 0., 0., 0., 0., 0., 0., 0., 1., 0., 0.,\n",
       "       0., 0., 0., 1., 0., 0., 0., 0., 0., 0., 0., 0., 0., 0., 0., 0., 0.,\n",
       "       0., 0., 0., 0., 0., 0., 0., 0., 0., 0., 0., 0., 0., 0., 0., 0., 0.,\n",
       "       0., 0., 0., 0., 1., 0., 0., 1., 1., 0., 0., 1., 0., 0., 0., 0., 0.,\n",
       "       0., 1., 0., 0., 0., 0., 0., 0., 0., 0.])"
      ]
     },
     "execution_count": 31,
     "metadata": {},
     "output_type": "execute_result"
    }
   ],
   "source": [
    "is_fraud"
   ]
  },
  {
   "cell_type": "markdown",
   "metadata": {
    "colab_type": "text",
    "id": "OgQBLi0iBsji"
   },
   "source": [
    "# Part 3 - ANN"
   ]
  },
  {
   "cell_type": "markdown",
   "metadata": {
    "colab_type": "text",
    "id": "RE_FcHyfV3TQ"
   },
   "source": [
    "### Feature Scaling"
   ]
  },
  {
   "cell_type": "code",
   "execution_count": 32,
   "metadata": {
    "colab": {},
    "colab_type": "code",
    "id": "ViCrE00rV8Sk"
   },
   "outputs": [],
   "source": [
    "from sklearn.preprocessing import StandardScaler\n",
    "\n",
    "sc = StandardScaler()\n",
    "costumers = sc.fit_transform(costumers)"
   ]
  },
  {
   "cell_type": "markdown",
   "metadata": {
    "colab_type": "text",
    "id": "-zfEzkRVXIwF"
   },
   "source": [
    "## Building the ANN"
   ]
  },
  {
   "cell_type": "markdown",
   "metadata": {
    "colab_type": "text",
    "id": "KvdeScabXtlB"
   },
   "source": [
    "## Initializing the ANN"
   ]
  },
  {
   "cell_type": "code",
   "execution_count": 39,
   "metadata": {
    "colab": {},
    "colab_type": "code",
    "id": "3dtrScHxXQox"
   },
   "outputs": [],
   "source": [
    "from tensorflow.keras.models import Sequential\n",
    "\n",
    "ann = Sequential()"
   ]
  },
  {
   "cell_type": "markdown",
   "metadata": {
    "colab_type": "text",
    "id": "rP6urV6SX7kS"
   },
   "source": [
    "## Adding the input layer and the first hidden layer"
   ]
  },
  {
   "cell_type": "code",
   "execution_count": 40,
   "metadata": {
    "colab": {},
    "colab_type": "code",
    "id": "bppGycBXYCQr"
   },
   "outputs": [
    {
     "name": "stdout",
     "output_type": "stream",
     "text": [
      "WARNING:tensorflow:From c:\\users\\nasa\\anaconda3\\envs\\mytfenv\\lib\\site-packages\\tensorflow_core\\python\\keras\\initializers.py:119: calling RandomUniform.__init__ (from tensorflow.python.ops.init_ops) with dtype is deprecated and will be removed in a future version.\n",
      "Instructions for updating:\n",
      "Call initializer instance with the dtype argument instead of passing it to the constructor\n",
      "WARNING:tensorflow:From c:\\users\\nasa\\anaconda3\\envs\\mytfenv\\lib\\site-packages\\tensorflow_core\\python\\ops\\resource_variable_ops.py:1630: calling BaseResourceVariable.__init__ (from tensorflow.python.ops.resource_variable_ops) with constraint is deprecated and will be removed in a future version.\n",
      "Instructions for updating:\n",
      "If using Keras pass *_constraint arguments to layers.\n"
     ]
    }
   ],
   "source": [
    "from tensorflow.keras.layers import Dense\n",
    "\n",
    "ann.add(Dense(units = 2, activation = 'relu', kernel_initializer = 'uniform', input_dim = 15)) #input_dim = 15: since we have \"15\" features (columns)."
   ]
  },
  {
   "cell_type": "markdown",
   "metadata": {
    "colab_type": "text",
    "id": "OyNEe6RXYcU4"
   },
   "source": [
    "## Adding the output layer"
   ]
  },
  {
   "cell_type": "code",
   "execution_count": 41,
   "metadata": {
    "colab": {},
    "colab_type": "code",
    "id": "Cn3x41RBYfvY"
   },
   "outputs": [],
   "source": [
    "ann.add(Dense(units = 1, activation = 'sigmoid', kernel_initializer = 'uniform'))"
   ]
  },
  {
   "cell_type": "markdown",
   "metadata": {
    "colab_type": "text",
    "id": "JT4u2S1_Y4WG"
   },
   "source": [
    "## Training the ANN"
   ]
  },
  {
   "cell_type": "markdown",
   "metadata": {
    "colab_type": "text",
    "id": "8GWlJChhY_ZI"
   },
   "source": [
    "## Compiling the ANN"
   ]
  },
  {
   "cell_type": "code",
   "execution_count": 42,
   "metadata": {
    "colab": {},
    "colab_type": "code",
    "id": "fG3RrwDXZEaS"
   },
   "outputs": [
    {
     "name": "stdout",
     "output_type": "stream",
     "text": [
      "WARNING:tensorflow:From c:\\users\\nasa\\anaconda3\\envs\\mytfenv\\lib\\site-packages\\tensorflow_core\\python\\ops\\nn_impl.py:183: where (from tensorflow.python.ops.array_ops) is deprecated and will be removed in a future version.\n",
      "Instructions for updating:\n",
      "Use tf.where in 2.0, which has the same broadcast rule as np.where\n"
     ]
    }
   ],
   "source": [
    "ann.compile(optimizer = 'Adam', loss = 'binary_crossentropy', metrics = ['accuracy'])"
   ]
  },
  {
   "cell_type": "markdown",
   "metadata": {
    "colab_type": "text",
    "id": "0QR_G5u7ZLSM"
   },
   "source": [
    "## Training the ANN on the Training set"
   ]
  },
  {
   "cell_type": "code",
   "execution_count": 43,
   "metadata": {
    "colab": {
     "base_uri": "https://localhost:8080/",
     "height": 374
    },
    "colab_type": "code",
    "id": "nHZ-LKv_ZRb3",
    "outputId": "b9f6c5ec-47ae-4ebf-868b-d72ed3c02996"
   },
   "outputs": [
    {
     "name": "stdout",
     "output_type": "stream",
     "text": [
      "Train on 690 samples\n",
      "Epoch 1/2\n",
      "690/690 [==============================] - 1s 1ms/sample - loss: 0.5105 - acc: 0.9333\n",
      "Epoch 2/2\n",
      "690/690 [==============================] - 1s 1ms/sample - loss: 0.2832 - acc: 0.9362\n"
     ]
    },
    {
     "data": {
      "text/plain": [
       "<tensorflow.python.keras.callbacks.History at 0x176eb3cd348>"
      ]
     },
     "execution_count": 43,
     "metadata": {},
     "output_type": "execute_result"
    }
   ],
   "source": [
    "ann.fit(costumers, is_fraud, batch_size = 1, epochs = 2) #batch_size = 1: foe simplicity"
   ]
  },
  {
   "cell_type": "code",
   "execution_count": 44,
   "metadata": {},
   "outputs": [],
   "source": [
    "#So the accuracy is about 93%."
   ]
  },
  {
   "cell_type": "markdown",
   "metadata": {
    "colab_type": "text",
    "id": "tJj5k2MxZga3"
   },
   "source": [
    "## Predicting test set results"
   ]
  },
  {
   "cell_type": "code",
   "execution_count": 70,
   "metadata": {
    "colab": {},
    "colab_type": "code",
    "id": "nIyEeQdRZwgs"
   },
   "outputs": [],
   "source": [
    "y_Pred = ann.predict(costumers)"
   ]
  },
  {
   "cell_type": "code",
   "execution_count": 71,
   "metadata": {
    "colab": {},
    "colab_type": "code",
    "id": "fX2iDXYiD-sN"
   },
   "outputs": [
    {
     "data": {
      "text/plain": [
       "array([[0.02414218],\n",
       "       [0.05177653],\n",
       "       [0.02886331],\n",
       "       [0.27551308],\n",
       "       [0.32726932],\n",
       "       [0.31338346],\n",
       "       [0.01738873],\n",
       "       [0.32907563],\n",
       "       [0.02849811],\n",
       "       [0.32907563],\n",
       "       [0.31969497],\n",
       "       [0.32907563],\n",
       "       [0.12802869],\n",
       "       [0.32907563],\n",
       "       [0.03367978],\n",
       "       [0.06002545],\n",
       "       [0.31398594],\n",
       "       [0.3132468 ],\n",
       "       [0.01214698],\n",
       "       [0.32907563],\n",
       "       [0.03918171],\n",
       "       [0.10318068],\n",
       "       [0.01767471],\n",
       "       [0.08698624],\n",
       "       [0.02586421],\n",
       "       [0.30418947],\n",
       "       [0.0120115 ],\n",
       "       [0.27228594],\n",
       "       [0.32907563],\n",
       "       [0.22404966],\n",
       "       [0.2688305 ],\n",
       "       [0.07301748],\n",
       "       [0.32500607],\n",
       "       [0.32907563],\n",
       "       [0.14623368],\n",
       "       [0.03802183],\n",
       "       [0.21571785],\n",
       "       [0.32907563],\n",
       "       [0.32907563],\n",
       "       [0.32907563],\n",
       "       [0.19614708],\n",
       "       [0.01170251],\n",
       "       [0.29968858],\n",
       "       [0.14210075],\n",
       "       [0.01856175],\n",
       "       [0.28898585],\n",
       "       [0.03428736],\n",
       "       [0.03704724],\n",
       "       [0.07938954],\n",
       "       [0.32907563],\n",
       "       [0.01622203],\n",
       "       [0.02020931],\n",
       "       [0.01338845],\n",
       "       [0.01618314],\n",
       "       [0.0646655 ],\n",
       "       [0.25576982],\n",
       "       [0.2871639 ],\n",
       "       [0.0625557 ],\n",
       "       [0.225993  ],\n",
       "       [0.29137355],\n",
       "       [0.02652636],\n",
       "       [0.04023755],\n",
       "       [0.18593198],\n",
       "       [0.05374333],\n",
       "       [0.32907563],\n",
       "       [0.32907563],\n",
       "       [0.03468376],\n",
       "       [0.08356014],\n",
       "       [0.01928031],\n",
       "       [0.32907563],\n",
       "       [0.10322049],\n",
       "       [0.09314421],\n",
       "       [0.02684882],\n",
       "       [0.20332882],\n",
       "       [0.32907563],\n",
       "       [0.04787472],\n",
       "       [0.03161547],\n",
       "       [0.02256218],\n",
       "       [0.04418021],\n",
       "       [0.32907563],\n",
       "       [0.2729538 ],\n",
       "       [0.04850128],\n",
       "       [0.04423767],\n",
       "       [0.02506366],\n",
       "       [0.01484379],\n",
       "       [0.05083966],\n",
       "       [0.14154711],\n",
       "       [0.32907563],\n",
       "       [0.04899064],\n",
       "       [0.00744653],\n",
       "       [0.01912001],\n",
       "       [0.02370274],\n",
       "       [0.02645388],\n",
       "       [0.29427642],\n",
       "       [0.07956782],\n",
       "       [0.05458805],\n",
       "       [0.04538253],\n",
       "       [0.0146589 ],\n",
       "       [0.1217297 ],\n",
       "       [0.27192447],\n",
       "       [0.08422676],\n",
       "       [0.13916501],\n",
       "       [0.32907563],\n",
       "       [0.17057958],\n",
       "       [0.01073122],\n",
       "       [0.32907563],\n",
       "       [0.31365415],\n",
       "       [0.02304459],\n",
       "       [0.32907563],\n",
       "       [0.02093574],\n",
       "       [0.02189398],\n",
       "       [0.02747723],\n",
       "       [0.19796279],\n",
       "       [0.29567462],\n",
       "       [0.02429268],\n",
       "       [0.13871834],\n",
       "       [0.32907563],\n",
       "       [0.23758027],\n",
       "       [0.2841953 ],\n",
       "       [0.32907563],\n",
       "       [0.32907563],\n",
       "       [0.01430458],\n",
       "       [0.02530843],\n",
       "       [0.32907563],\n",
       "       [0.32907563],\n",
       "       [0.02371252],\n",
       "       [0.32907563],\n",
       "       [0.01997504],\n",
       "       [0.31934053],\n",
       "       [0.15600911],\n",
       "       [0.32907563],\n",
       "       [0.03171566],\n",
       "       [0.0135254 ],\n",
       "       [0.03349295],\n",
       "       [0.05216983],\n",
       "       [0.05479899],\n",
       "       [0.01328132],\n",
       "       [0.32907563],\n",
       "       [0.18936747],\n",
       "       [0.32907563],\n",
       "       [0.10304737],\n",
       "       [0.02775076],\n",
       "       [0.00654116],\n",
       "       [0.32907563],\n",
       "       [0.05111292],\n",
       "       [0.32907563],\n",
       "       [0.32907563],\n",
       "       [0.04550874],\n",
       "       [0.2812311 ],\n",
       "       [0.32907563],\n",
       "       [0.04345682],\n",
       "       [0.11635378],\n",
       "       [0.02884683],\n",
       "       [0.01648709],\n",
       "       [0.32907563],\n",
       "       [0.02595285],\n",
       "       [0.06217736],\n",
       "       [0.02329922],\n",
       "       [0.21516034],\n",
       "       [0.03383112],\n",
       "       [0.02640831],\n",
       "       [0.02937466],\n",
       "       [0.17831132],\n",
       "       [0.31630653],\n",
       "       [0.10738429],\n",
       "       [0.00989181],\n",
       "       [0.00903499],\n",
       "       [0.17112622],\n",
       "       [0.01576856],\n",
       "       [0.08540159],\n",
       "       [0.2040689 ],\n",
       "       [0.2514037 ],\n",
       "       [0.01734391],\n",
       "       [0.30606103],\n",
       "       [0.32907563],\n",
       "       [0.25009704],\n",
       "       [0.045836  ],\n",
       "       [0.02091399],\n",
       "       [0.32907563],\n",
       "       [0.32907563],\n",
       "       [0.01946381],\n",
       "       [0.20752186],\n",
       "       [0.32907563],\n",
       "       [0.17945051],\n",
       "       [0.2008597 ],\n",
       "       [0.04270509],\n",
       "       [0.1709241 ],\n",
       "       [0.02043694],\n",
       "       [0.03701743],\n",
       "       [0.0378691 ],\n",
       "       [0.01241618],\n",
       "       [0.32907563],\n",
       "       [0.14820978],\n",
       "       [0.0213376 ],\n",
       "       [0.11874184],\n",
       "       [0.32907563],\n",
       "       [0.32907563],\n",
       "       [0.03042793],\n",
       "       [0.02217752],\n",
       "       [0.0280084 ],\n",
       "       [0.32907563],\n",
       "       [0.02561688],\n",
       "       [0.32907563],\n",
       "       [0.2828993 ],\n",
       "       [0.32907563],\n",
       "       [0.198562  ],\n",
       "       [0.01556805],\n",
       "       [0.05713385],\n",
       "       [0.03306505],\n",
       "       [0.0143387 ],\n",
       "       [0.2903804 ],\n",
       "       [0.30494922],\n",
       "       [0.01976606],\n",
       "       [0.14544597],\n",
       "       [0.01506987],\n",
       "       [0.32907563],\n",
       "       [0.02860311],\n",
       "       [0.04778123],\n",
       "       [0.015118  ],\n",
       "       [0.2506554 ],\n",
       "       [0.32907563],\n",
       "       [0.02399915],\n",
       "       [0.19190705],\n",
       "       [0.02856168],\n",
       "       [0.10751516],\n",
       "       [0.07344562],\n",
       "       [0.04243335],\n",
       "       [0.20372874],\n",
       "       [0.32907563],\n",
       "       [0.32907563],\n",
       "       [0.2816335 ],\n",
       "       [0.02643257],\n",
       "       [0.32907563],\n",
       "       [0.32907563],\n",
       "       [0.25570056],\n",
       "       [0.32907563],\n",
       "       [0.05943695],\n",
       "       [0.03980851],\n",
       "       [0.0173161 ],\n",
       "       [0.32907563],\n",
       "       [0.32907563],\n",
       "       [0.31122622],\n",
       "       [0.32907563],\n",
       "       [0.17905411],\n",
       "       [0.04108173],\n",
       "       [0.04360652],\n",
       "       [0.03884137],\n",
       "       [0.32907563],\n",
       "       [0.24926105],\n",
       "       [0.07726321],\n",
       "       [0.01920396],\n",
       "       [0.01867503],\n",
       "       [0.32907563],\n",
       "       [0.02559316],\n",
       "       [0.32907563],\n",
       "       [0.20404118],\n",
       "       [0.03164375],\n",
       "       [0.19855165],\n",
       "       [0.01403382],\n",
       "       [0.08923709],\n",
       "       [0.02125883],\n",
       "       [0.32907563],\n",
       "       [0.05083302],\n",
       "       [0.22096217],\n",
       "       [0.16465735],\n",
       "       [0.04512963],\n",
       "       [0.0481573 ],\n",
       "       [0.32907563],\n",
       "       [0.01642212],\n",
       "       [0.01623759],\n",
       "       [0.05773401],\n",
       "       [0.17021012],\n",
       "       [0.01663813],\n",
       "       [0.12789333],\n",
       "       [0.2635942 ],\n",
       "       [0.01707411],\n",
       "       [0.1938923 ],\n",
       "       [0.06751195],\n",
       "       [0.32907563],\n",
       "       [0.32907563],\n",
       "       [0.02297568],\n",
       "       [0.01233077],\n",
       "       [0.3249805 ],\n",
       "       [0.01634261],\n",
       "       [0.0198532 ],\n",
       "       [0.19419008],\n",
       "       [0.32907563],\n",
       "       [0.32907563],\n",
       "       [0.01229632],\n",
       "       [0.02867198],\n",
       "       [0.1321877 ],\n",
       "       [0.04046887],\n",
       "       [0.2558992 ],\n",
       "       [0.15134388],\n",
       "       [0.32907563],\n",
       "       [0.01458183],\n",
       "       [0.02428436],\n",
       "       [0.02945688],\n",
       "       [0.21721071],\n",
       "       [0.03008568],\n",
       "       [0.30640644],\n",
       "       [0.02878731],\n",
       "       [0.04676381],\n",
       "       [0.01738429],\n",
       "       [0.051514  ],\n",
       "       [0.32907563],\n",
       "       [0.05014327],\n",
       "       [0.25564802],\n",
       "       [0.05363351],\n",
       "       [0.04236633],\n",
       "       [0.04300719],\n",
       "       [0.14025977],\n",
       "       [0.12727001],\n",
       "       [0.32907563],\n",
       "       [0.16539061],\n",
       "       [0.01116118],\n",
       "       [0.32907563],\n",
       "       [0.32907563],\n",
       "       [0.04084969],\n",
       "       [0.32907563],\n",
       "       [0.15727428],\n",
       "       [0.28184748],\n",
       "       [0.32907563],\n",
       "       [0.17395335],\n",
       "       [0.19255966],\n",
       "       [0.32907563],\n",
       "       [0.01265529],\n",
       "       [0.07419354],\n",
       "       [0.01543853],\n",
       "       [0.02684361],\n",
       "       [0.32907563],\n",
       "       [0.19805214],\n",
       "       [0.17812055],\n",
       "       [0.0147163 ],\n",
       "       [0.03262642],\n",
       "       [0.01806706],\n",
       "       [0.32907563],\n",
       "       [0.01729652],\n",
       "       [0.32907563],\n",
       "       [0.06529218],\n",
       "       [0.01361418],\n",
       "       [0.08411393],\n",
       "       [0.31311235],\n",
       "       [0.23558992],\n",
       "       [0.03701487],\n",
       "       [0.2075659 ],\n",
       "       [0.30022186],\n",
       "       [0.32907563],\n",
       "       [0.32907563],\n",
       "       [0.02149117],\n",
       "       [0.32907563],\n",
       "       [0.02816743],\n",
       "       [0.29598758],\n",
       "       [0.08748427],\n",
       "       [0.01780167],\n",
       "       [0.0320448 ],\n",
       "       [0.08210149],\n",
       "       [0.02241662],\n",
       "       [0.32907563],\n",
       "       [0.02798778],\n",
       "       [0.32907563],\n",
       "       [0.32647434],\n",
       "       [0.05630255],\n",
       "       [0.05131829],\n",
       "       [0.01228678],\n",
       "       [0.04215392],\n",
       "       [0.01614198],\n",
       "       [0.32907563],\n",
       "       [0.06170863],\n",
       "       [0.30454257],\n",
       "       [0.28044462],\n",
       "       [0.05101672],\n",
       "       [0.01284343],\n",
       "       [0.04495034],\n",
       "       [0.18407181],\n",
       "       [0.32907563],\n",
       "       [0.17749459],\n",
       "       [0.01838842],\n",
       "       [0.0302029 ],\n",
       "       [0.32266274],\n",
       "       [0.2282109 ],\n",
       "       [0.01247865],\n",
       "       [0.03073534],\n",
       "       [0.01218918],\n",
       "       [0.30537838],\n",
       "       [0.32907563],\n",
       "       [0.02722868],\n",
       "       [0.32907563],\n",
       "       [0.2218732 ],\n",
       "       [0.2894681 ],\n",
       "       [0.2363736 ],\n",
       "       [0.02342671],\n",
       "       [0.02598244],\n",
       "       [0.32907563],\n",
       "       [0.09388679],\n",
       "       [0.01824135],\n",
       "       [0.32907563],\n",
       "       [0.03834879],\n",
       "       [0.04347521],\n",
       "       [0.05275151],\n",
       "       [0.0499247 ],\n",
       "       [0.13952526],\n",
       "       [0.03314385],\n",
       "       [0.03063622],\n",
       "       [0.02102569],\n",
       "       [0.26575512],\n",
       "       [0.27269602],\n",
       "       [0.0476335 ],\n",
       "       [0.32907563],\n",
       "       [0.0184356 ],\n",
       "       [0.01030448],\n",
       "       [0.01930705],\n",
       "       [0.32907563],\n",
       "       [0.24236804],\n",
       "       [0.32907563],\n",
       "       [0.07019487],\n",
       "       [0.2677855 ],\n",
       "       [0.29897654],\n",
       "       [0.04041895],\n",
       "       [0.32907563],\n",
       "       [0.26501536],\n",
       "       [0.03848803],\n",
       "       [0.01396984],\n",
       "       [0.32097298],\n",
       "       [0.02261695],\n",
       "       [0.16214544],\n",
       "       [0.20705986],\n",
       "       [0.07328737],\n",
       "       [0.04621392],\n",
       "       [0.10210535],\n",
       "       [0.32907563],\n",
       "       [0.02293041],\n",
       "       [0.23963585],\n",
       "       [0.22655752],\n",
       "       [0.32907563],\n",
       "       [0.18754256],\n",
       "       [0.12312201],\n",
       "       [0.32907563],\n",
       "       [0.2658462 ],\n",
       "       [0.01210731],\n",
       "       [0.31056046],\n",
       "       [0.01468477],\n",
       "       [0.04100999],\n",
       "       [0.32907563],\n",
       "       [0.02001125],\n",
       "       [0.16890997],\n",
       "       [0.29714525],\n",
       "       [0.06574643],\n",
       "       [0.02985319],\n",
       "       [0.03323144],\n",
       "       [0.02684295],\n",
       "       [0.08881819],\n",
       "       [0.1491282 ],\n",
       "       [0.32907563],\n",
       "       [0.25688276],\n",
       "       [0.02357912],\n",
       "       [0.31182086],\n",
       "       [0.32907563],\n",
       "       [0.01739767],\n",
       "       [0.32907563],\n",
       "       [0.01685742],\n",
       "       [0.29334205],\n",
       "       [0.02516705],\n",
       "       [0.32907563],\n",
       "       [0.09195152],\n",
       "       [0.22635776],\n",
       "       [0.32907563],\n",
       "       [0.13358882],\n",
       "       [0.32907563],\n",
       "       [0.07633185],\n",
       "       [0.20996615],\n",
       "       [0.32907563],\n",
       "       [0.18831623],\n",
       "       [0.01926562],\n",
       "       [0.02048436],\n",
       "       [0.13779056],\n",
       "       [0.01085871],\n",
       "       [0.0534001 ],\n",
       "       [0.32907563],\n",
       "       [0.22634992],\n",
       "       [0.32907563],\n",
       "       [0.11486742],\n",
       "       [0.01820803],\n",
       "       [0.03716251],\n",
       "       [0.2735358 ],\n",
       "       [0.1720146 ],\n",
       "       [0.32907563],\n",
       "       [0.32907563],\n",
       "       [0.32907563],\n",
       "       [0.08827943],\n",
       "       [0.16473997],\n",
       "       [0.32907563],\n",
       "       [0.0138844 ],\n",
       "       [0.28634262],\n",
       "       [0.01591304],\n",
       "       [0.1272909 ],\n",
       "       [0.20002857],\n",
       "       [0.3069456 ],\n",
       "       [0.25438648],\n",
       "       [0.24985877],\n",
       "       [0.11174974],\n",
       "       [0.0170607 ],\n",
       "       [0.32907563],\n",
       "       [0.32907563],\n",
       "       [0.14835814],\n",
       "       [0.22463053],\n",
       "       [0.07921988],\n",
       "       [0.04771957],\n",
       "       [0.0272381 ],\n",
       "       [0.17402387],\n",
       "       [0.02091801],\n",
       "       [0.04654887],\n",
       "       [0.01989746],\n",
       "       [0.32907563],\n",
       "       [0.02362439],\n",
       "       [0.18526566],\n",
       "       [0.3080684 ],\n",
       "       [0.22098523],\n",
       "       [0.23744848],\n",
       "       [0.02319202],\n",
       "       [0.32907563],\n",
       "       [0.07586443],\n",
       "       [0.21035889],\n",
       "       [0.32907563],\n",
       "       [0.2841407 ],\n",
       "       [0.01838279],\n",
       "       [0.32529724],\n",
       "       [0.04757208],\n",
       "       [0.01702142],\n",
       "       [0.04359382],\n",
       "       [0.04112604],\n",
       "       [0.04551741],\n",
       "       [0.02166015],\n",
       "       [0.23976257],\n",
       "       [0.19282791],\n",
       "       [0.32907563],\n",
       "       [0.01967466],\n",
       "       [0.06802937],\n",
       "       [0.32907563],\n",
       "       [0.32907563],\n",
       "       [0.03152993],\n",
       "       [0.02403128],\n",
       "       [0.18990603],\n",
       "       [0.01616138],\n",
       "       [0.32907563],\n",
       "       [0.01348177],\n",
       "       [0.01427302],\n",
       "       [0.01552597],\n",
       "       [0.03857854],\n",
       "       [0.10670656],\n",
       "       [0.2436108 ],\n",
       "       [0.25078893],\n",
       "       [0.04954576],\n",
       "       [0.13585183],\n",
       "       [0.08755443],\n",
       "       [0.01233712],\n",
       "       [0.03438202],\n",
       "       [0.28226084],\n",
       "       [0.04681262],\n",
       "       [0.32907563],\n",
       "       [0.04291651],\n",
       "       [0.32907563],\n",
       "       [0.0601877 ],\n",
       "       [0.03394097],\n",
       "       [0.32907563],\n",
       "       [0.32907563],\n",
       "       [0.32907563],\n",
       "       [0.08950812],\n",
       "       [0.06448904],\n",
       "       [0.01231134],\n",
       "       [0.02754605],\n",
       "       [0.02551743],\n",
       "       [0.29500476],\n",
       "       [0.03849605],\n",
       "       [0.2459144 ],\n",
       "       [0.32907563],\n",
       "       [0.06259972],\n",
       "       [0.13945502],\n",
       "       [0.2512533 ],\n",
       "       [0.01907158],\n",
       "       [0.02882552],\n",
       "       [0.32907563],\n",
       "       [0.32907563],\n",
       "       [0.22770092],\n",
       "       [0.02322894],\n",
       "       [0.32907563],\n",
       "       [0.32187015],\n",
       "       [0.2915712 ],\n",
       "       [0.20163688],\n",
       "       [0.0333488 ],\n",
       "       [0.02331156],\n",
       "       [0.32907563],\n",
       "       [0.01190868],\n",
       "       [0.24732095],\n",
       "       [0.06988394],\n",
       "       [0.01412845],\n",
       "       [0.19468188],\n",
       "       [0.17559212],\n",
       "       [0.02880758],\n",
       "       [0.32907563],\n",
       "       [0.04567155],\n",
       "       [0.32907563],\n",
       "       [0.29441458],\n",
       "       [0.32907563],\n",
       "       [0.32907563],\n",
       "       [0.02207133],\n",
       "       [0.0722608 ],\n",
       "       [0.3070006 ],\n",
       "       [0.03781784],\n",
       "       [0.28172803],\n",
       "       [0.32907563],\n",
       "       [0.01415068],\n",
       "       [0.12464312],\n",
       "       [0.01714376],\n",
       "       [0.27745944],\n",
       "       [0.26204243],\n",
       "       [0.03791326],\n",
       "       [0.06091896],\n",
       "       [0.01983246],\n",
       "       [0.32907563],\n",
       "       [0.01781088],\n",
       "       [0.32907563],\n",
       "       [0.32907563],\n",
       "       [0.01629004],\n",
       "       [0.32907563],\n",
       "       [0.11228019],\n",
       "       [0.22300544],\n",
       "       [0.01692218],\n",
       "       [0.11209255],\n",
       "       [0.01595965],\n",
       "       [0.19599542],\n",
       "       [0.02760792],\n",
       "       [0.27326596],\n",
       "       [0.02358362],\n",
       "       [0.01432285],\n",
       "       [0.08982918],\n",
       "       [0.01930571],\n",
       "       [0.01984596],\n",
       "       [0.01326805],\n",
       "       [0.25231162],\n",
       "       [0.02017495],\n",
       "       [0.32907563],\n",
       "       [0.32907563],\n",
       "       [0.03671759],\n",
       "       [0.13145193],\n",
       "       [0.01719531],\n",
       "       [0.2011607 ],\n",
       "       [0.02763531],\n",
       "       [0.06943941],\n",
       "       [0.32907563],\n",
       "       [0.20437843],\n",
       "       [0.0136199 ],\n",
       "       [0.02279845],\n",
       "       [0.32907563],\n",
       "       [0.06164345],\n",
       "       [0.04768527],\n",
       "       [0.2131438 ],\n",
       "       [0.02764186],\n",
       "       [0.0181796 ],\n",
       "       [0.04267871],\n",
       "       [0.25123227],\n",
       "       [0.02393886],\n",
       "       [0.1763112 ],\n",
       "       [0.32907563],\n",
       "       [0.01377538],\n",
       "       [0.01218137],\n",
       "       [0.02951732],\n",
       "       [0.09331438],\n",
       "       [0.03813541],\n",
       "       [0.0190627 ],\n",
       "       [0.30778915],\n",
       "       [0.24178311],\n",
       "       [0.02884158],\n",
       "       [0.31106526],\n",
       "       [0.32176957],\n",
       "       [0.02985069],\n",
       "       [0.04724386],\n",
       "       [0.06258839],\n",
       "       [0.01457128],\n",
       "       [0.24222374],\n",
       "       [0.013381  ],\n",
       "       [0.22191271],\n",
       "       [0.32907563],\n",
       "       [0.0594829 ],\n",
       "       [0.28560972],\n",
       "       [0.32907563],\n",
       "       [0.01728046],\n",
       "       [0.32766944],\n",
       "       [0.3290756 ],\n",
       "       [0.06183772]], dtype=float32)"
      ]
     },
     "execution_count": 71,
     "metadata": {},
     "output_type": "execute_result"
    }
   ],
   "source": [
    "y_Pred"
   ]
  },
  {
   "cell_type": "code",
   "execution_count": 72,
   "metadata": {},
   "outputs": [],
   "source": [
    "y_Pred = np.concatenate((df.iloc[:, 0:1].values, y_Pred), axis = 1) #df.iloc[:, 0:1] instead of df.iloc[:, 0]: will do the task of \".reshape(len(df.iloc[:, 0].values), 1)\"!\""
   ]
  },
  {
   "cell_type": "code",
   "execution_count": 73,
   "metadata": {},
   "outputs": [
    {
     "data": {
      "text/plain": [
       "array([[1.57761560e+07, 2.41421759e-02],\n",
       "       [1.57395480e+07, 5.17765284e-02],\n",
       "       [1.56628540e+07, 2.88633108e-02],\n",
       "       ...,\n",
       "       [1.56754500e+07, 3.27669442e-01],\n",
       "       [1.57764940e+07, 3.29075605e-01],\n",
       "       [1.55924120e+07, 6.18377179e-02]])"
      ]
     },
     "execution_count": 73,
     "metadata": {},
     "output_type": "execute_result"
    }
   ],
   "source": [
    "y_Pred"
   ]
  },
  {
   "cell_type": "code",
   "execution_count": 74,
   "metadata": {},
   "outputs": [],
   "source": [
    "y_Pred = y_Pred[y_Pred[:, 1].argsort()] #sort by only one column!    #y_Pred[:, 1].argsort(): returns the indexes of the sorted elements, in order."
   ]
  },
  {
   "cell_type": "code",
   "execution_count": 75,
   "metadata": {},
   "outputs": [
    {
     "data": {
      "text/plain": [
       "array([[1.56430560e+07, 6.54116273e-03],\n",
       "       [1.56009750e+07, 7.44652748e-03],\n",
       "       [1.57092520e+07, 9.03499126e-03],\n",
       "       ...,\n",
       "       [1.57778930e+07, 3.29075634e-01],\n",
       "       [1.58116900e+07, 3.29075634e-01],\n",
       "       [1.57666630e+07, 3.29075634e-01]])"
      ]
     },
     "execution_count": 75,
     "metadata": {},
     "output_type": "execute_result"
    }
   ],
   "source": [
    "y_Pred #So this is the sorted client IDs in the left, and their probabilty of being fraudulent (according to the ANN model prediction) in the right!"
   ]
  },
  {
   "cell_type": "code",
   "execution_count": null,
   "metadata": {},
   "outputs": [],
   "source": []
  }
 ],
 "metadata": {
  "colab": {
   "collapsed_sections": [],
   "name": "Mega_Case_Study.ipynb",
   "provenance": [],
   "toc_visible": true
  },
  "kernelspec": {
   "display_name": "Python 3",
   "language": "python",
   "name": "python3"
  },
  "language_info": {
   "codemirror_mode": {
    "name": "ipython",
    "version": 3
   },
   "file_extension": ".py",
   "mimetype": "text/x-python",
   "name": "python",
   "nbconvert_exporter": "python",
   "pygments_lexer": "ipython3",
   "version": "3.7.7"
  }
 },
 "nbformat": 4,
 "nbformat_minor": 1
}
